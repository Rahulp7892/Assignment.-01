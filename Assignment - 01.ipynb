{
 "cells": [
  {
   "cell_type": "code",
   "execution_count": 1,
   "id": "c0dc51e0-fb4c-48fd-ba6b-b90f8cbe8f03",
   "metadata": {},
   "outputs": [],
   "source": [
    "#Q1. Which keyword is used to create a function? Create a function to return a list of odd numbers in the range of 1 to 25."
   ]
  },
  {
   "cell_type": "code",
   "execution_count": 2,
   "id": "52d2ded9-313f-477a-abbd-d44f3e8c6e29",
   "metadata": {},
   "outputs": [],
   "source": [
    "#Ans"
   ]
  },
  {
   "cell_type": "code",
   "execution_count": 1,
   "id": "de569160-62a9-488c-8e67-4733d008f820",
   "metadata": {},
   "outputs": [
    {
     "name": "stdout",
     "output_type": "stream",
     "text": [
      "[1, 3, 5, 7, 9, 11, 13, 15, 17, 19, 21, 23, 25]\n"
     ]
    }
   ],
   "source": [
    "def get_odd_numbers():\n",
    "    odd_numbers = []\n",
    "    for number in range(1, 26):\n",
    "        if number % 2 != 0:\n",
    "            odd_numbers.append(number)\n",
    "    return odd_numbers\n",
    "\n",
    "# Call the function and print the result\n",
    "print(get_odd_numbers())"
   ]
  },
  {
   "cell_type": "code",
   "execution_count": 2,
   "id": "c7be8bc4-1044-443c-83a3-60fa20b2e09d",
   "metadata": {},
   "outputs": [],
   "source": [
    "#Q2. Why *args and**kwargs is used in some function?Create a function each for *args and **kwargs to demonstrate their use"
   ]
  },
  {
   "cell_type": "code",
   "execution_count": 3,
   "id": "f571d80e-a6d6-4456-a148-88d0944b120b",
   "metadata": {},
   "outputs": [],
   "source": [
    "#Ans"
   ]
  },
  {
   "cell_type": "code",
   "execution_count": 6,
   "id": "49498d14-f10a-49f5-a987-1c4ea567a8bb",
   "metadata": {},
   "outputs": [
    {
     "name": "stdout",
     "output_type": "stream",
     "text": [
      "6\n",
      "22\n"
     ]
    }
   ],
   "source": [
    "def sum_numbers(*args):\n",
    "    total = 0\n",
    "    for number in args:\n",
    "        total += number\n",
    "    return total\n",
    "\n",
    "print(sum_numbers(1, 2, 3))       \n",
    "print(sum_numbers(4, 5, 6, 7))   "
   ]
  },
  {
   "cell_type": "code",
   "execution_count": 8,
   "id": "a552969b-8239-4a59-9bdf-981b18aa375f",
   "metadata": {},
   "outputs": [
    {
     "name": "stdout",
     "output_type": "stream",
     "text": [
      "name: Alice\n",
      "age: 30\n",
      "profession: Engineer\n",
      "name: Bob\n",
      "age: 25\n",
      "city: New York\n"
     ]
    }
   ],
   "source": [
    "def print_person_details(**kwargs):\n",
    "    for key, value in kwargs.items():\n",
    "        print(f\"{key}: {value}\")\n",
    "print_person_details(name=\"Alice\", age=30, profession=\"Engineer\")\n",
    "print_person_details(name=\"Bob\", age=25, city=\"New York\")"
   ]
  },
  {
   "cell_type": "code",
   "execution_count": 1,
   "id": "36a47d97-b12a-4c90-8f9b-2bb5e685c581",
   "metadata": {},
   "outputs": [],
   "source": [
    "#Q3. What is an iterator in python?Name the method used to initialise the iterator object and the method used for iteration. Use these methods to print the first five elements of the given list[2,4,6,8,10,12,14,16,18,20]"
   ]
  },
  {
   "cell_type": "code",
   "execution_count": 5,
   "id": "be54998e-9837-4998-9fb8-dbde8052e704",
   "metadata": {},
   "outputs": [],
   "source": [
    "#Ans"
   ]
  },
  {
   "cell_type": "code",
   "execution_count": 11,
   "id": "1504b2bc-993a-41c9-8d20-3026d430ed21",
   "metadata": {},
   "outputs": [
    {
     "name": "stdout",
     "output_type": "stream",
     "text": [
      "2\n",
      "4\n",
      "6\n",
      "8\n",
      "10\n"
     ]
    }
   ],
   "source": [
    "l = [2, 4, 6, 8, 10, 12, 14, 16, 18, 20]\n",
    "iterator = iter(l)\n",
    "for _ in range(5):\n",
    "    print(next(iterator))\n"
   ]
  },
  {
   "cell_type": "code",
   "execution_count": 12,
   "id": "b241057d-0e55-42c8-b4b5-d5fe0e0ffc6e",
   "metadata": {},
   "outputs": [],
   "source": [
    "#Q4 What is a generator function in python?Why yield keyword is used?Give an example of a generator function."
   ]
  },
  {
   "cell_type": "code",
   "execution_count": 13,
   "id": "f5496801-c8bb-4e0f-9c36-b9433fa3c1ac",
   "metadata": {},
   "outputs": [],
   "source": [
    "#Ans"
   ]
  },
  {
   "cell_type": "code",
   "execution_count": 14,
   "id": "be86d624-93f0-4125-8e67-c6c46055e79a",
   "metadata": {},
   "outputs": [],
   "source": [
    "def count_up_to(n):\n",
    "    count = 1\n",
    "    while count <= n:\n",
    "        yield count\n",
    "        count += 1"
   ]
  },
  {
   "cell_type": "code",
   "execution_count": 16,
   "id": "02a9a2ef-a07d-4a0c-9c92-e5fb1a9d588a",
   "metadata": {},
   "outputs": [
    {
     "name": "stdout",
     "output_type": "stream",
     "text": [
      "1\n",
      "2\n",
      "3\n",
      "4\n",
      "5\n"
     ]
    }
   ],
   "source": [
    "counter = count_up_to(5)\n",
    "print(next(counter))  \n",
    "print(next(counter))  \n",
    "print(next(counter))  \n",
    "print(next(counter))  \n",
    "print(next(counter))  "
   ]
  },
  {
   "cell_type": "code",
   "execution_count": 17,
   "id": "126430a3-2581-43e9-b94f-b37a87816cc7",
   "metadata": {},
   "outputs": [],
   "source": [
    "#Q5Create a genarator function for prime numbers less than 1000. use the()method to print the first 20 prime numbers."
   ]
  },
  {
   "cell_type": "code",
   "execution_count": 18,
   "id": "c2de65e6-d7f6-4f20-bfa7-c504ef73bc6c",
   "metadata": {},
   "outputs": [],
   "source": [
    "#Ans"
   ]
  },
  {
   "cell_type": "code",
   "execution_count": 24,
   "id": "7522ebac-a83b-421c-9d02-6f28bee1c344",
   "metadata": {},
   "outputs": [
    {
     "name": "stdout",
     "output_type": "stream",
     "text": [
      "2\n",
      "3\n",
      "5\n",
      "7\n",
      "11\n",
      "13\n",
      "17\n",
      "19\n",
      "23\n",
      "29\n",
      "31\n",
      "37\n",
      "41\n",
      "43\n",
      "47\n",
      "53\n",
      "59\n",
      "61\n",
      "67\n",
      "71\n"
     ]
    }
   ],
   "source": [
    "def prime_numbers():\n",
    "    def is_prime(n):\n",
    "        if n <= 1:\n",
    "            return False\n",
    "        if n <= 3:\n",
    "            return True\n",
    "        if n % 2 == 0 or n % 3 == 0:\n",
    "            return False\n",
    "        i = 5\n",
    "        while i * i <= n:\n",
    "            if n % i == 0 or n % (i + 2) == 0:\n",
    "                return False\n",
    "            i += 6\n",
    "        return True\n",
    "\n",
    "    num = 2\n",
    "    while num < 1000:\n",
    "        if is_prime(num):\n",
    "            yield num\n",
    "        num += 1\n",
    "primes = prime_numbers()\n",
    "for _ in range(20):\n",
    "    print(next(primes))"
   ]
  },
  {
   "cell_type": "code",
   "execution_count": 25,
   "id": "7b1d35b8-5713-47ab-a675-2b86cfccd959",
   "metadata": {},
   "outputs": [],
   "source": [
    "#Q6 Write a python program to print the first 10 Fibonacci numbers using a while loop"
   ]
  },
  {
   "cell_type": "code",
   "execution_count": 26,
   "id": "fe763e28-e7d8-4f10-8317-d53748728f66",
   "metadata": {},
   "outputs": [],
   "source": [
    "#Ans"
   ]
  },
  {
   "cell_type": "code",
   "execution_count": 27,
   "id": "4ed6aac8-956b-49e3-9be2-46981cc5b70b",
   "metadata": {},
   "outputs": [
    {
     "name": "stdout",
     "output_type": "stream",
     "text": [
      "The first 10 Fibonacci numbers are:\n",
      "0\n",
      "1\n",
      "1\n",
      "2\n",
      "3\n",
      "5\n",
      "8\n",
      "13\n",
      "21\n",
      "34\n"
     ]
    }
   ],
   "source": [
    "a, b = 0, 1\n",
    "count = 0\n",
    "n = 10  \n",
    "\n",
    "print(\"The first 10 Fibonacci numbers are:\")\n",
    "\n",
    "while count < n:\n",
    "    print(a)\n",
    "    a, b = b, a + b\n",
    "    count += 1"
   ]
  },
  {
   "cell_type": "code",
   "execution_count": 28,
   "id": "77e8cbf8-d5c8-4483-ac06-2d70542b95db",
   "metadata": {},
   "outputs": [],
   "source": [
    "#Q7Write a list Comprehension to iterate through the given string:'pwskills'.Expected putput:['p','w','s','k','i','l','s']"
   ]
  },
  {
   "cell_type": "code",
   "execution_count": 29,
   "id": "abc874fe-2111-4525-9c29-945b8af38b1e",
   "metadata": {},
   "outputs": [],
   "source": [
    "#Ans"
   ]
  },
  {
   "cell_type": "code",
   "execution_count": 30,
   "id": "3cca110f-e35d-4aa4-b658-35db8eef8146",
   "metadata": {},
   "outputs": [
    {
     "name": "stdout",
     "output_type": "stream",
     "text": [
      "['p', 'w', 's', 'k', 'i', 'l', 'l', 's']\n"
     ]
    }
   ],
   "source": [
    "string = 'pwsk= [char for char in string if char in 'pwskills']\n",
    "\n",
    "print(selected_chars)"
   ]
  },
  {
   "cell_type": "code",
   "execution_count": 8,
   "id": "a3817c4c-6ff9-4150-ad65-b8f85f21972c",
   "metadata": {},
   "outputs": [],
   "source": [
    "#Q8 Write a python program to chack whether a given number is palindrome or not using a while loop."
   ]
  },
  {
   "cell_type": "code",
   "execution_count": 6,
   "id": "76e3c3b2-1032-4436-9a56-07466a93e010",
   "metadata": {},
   "outputs": [],
   "source": [
    "def is_palindrome(number):\n",
    "    original_number = number\n",
    "    reversed_number = 0\n",
    "    while number > 0:\n",
    "        remainder = number % 10\n",
    "        reversed_number = reversed_number * 10 + remainder\n",
    "        number = number // 10\n",
    "    return original_number == reversed_number"
   ]
  },
  {
   "cell_type": "code",
   "execution_count": 3,
   "id": "d19e42e1-e89f-445f-b787-cc4f810aed22",
   "metadata": {},
   "outputs": [
    {
     "name": "stdin",
     "output_type": "stream",
     "text": [
      "Enter a number:  0\n"
     ]
    },
    {
     "name": "stdout",
     "output_type": "stream",
     "text": [
      "0 is a palindrome.\n"
     ]
    }
   ],
   "source": [
    "number = int(input(\"Enter a number: \"))\n",
    "if is_palindrome(number):\n",
    "    print(f\"{number} is a palindrome.\")\n",
    "else:\n",
    "    print(f\"{number} is not a palindrome.\")"
   ]
  },
  {
   "cell_type": "code",
   "execution_count": 7,
   "id": "420c0bdc-c7ff-4f6c-a84a-c5de1fea7554",
   "metadata": {},
   "outputs": [],
   "source": [
    "#Q9 Write a code to print odd numbers from 1 to 100 using list comprehension."
   ]
  },
  {
   "cell_type": "code",
   "execution_count": 9,
   "id": "bee02e55-d425-4c2f-a3c5-aee5b06bbe60",
   "metadata": {},
   "outputs": [
    {
     "name": "stdout",
     "output_type": "stream",
     "text": [
      "[1, 3, 5, 7, 9, 11, 13, 15, 17, 19, 21, 23, 25, 27, 29, 31, 33, 35, 37, 39, 41, 43, 45, 47, 49, 51, 53, 55, 57, 59, 61, 63, 65, 67, 69, 71, 73, 75, 77, 79, 81, 83, 85, 87, 89, 91, 93, 95, 97, 99]\n"
     ]
    }
   ],
   "source": [
    "odd_numbers = [number for number in range(1, 101) if number % 2 != 0]\n",
    "\n",
    "print(odd_numbers)\n"
   ]
  }
 ],
 "metadata": {
  "kernelspec": {
   "display_name": "Python 3 (ipykernel)",
   "language": "python",
   "name": "python3"
  },
  "language_info": {
   "codemirror_mode": {
    "name": "ipython",
    "version": 3
   },
   "file_extension": ".py",
   "mimetype": "text/x-python",
   "name": "python",
   "nbconvert_exporter": "python",
   "pygments_lexer": "ipython3",
   "version": "3.10.8"
  }
 },
 "nbformat": 4,
 "nbformat_minor": 5
}
